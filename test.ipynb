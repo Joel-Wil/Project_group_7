{
 "cells": [
  {
   "cell_type": "code",
   "execution_count": 3,
   "id": "996c5692-a095-4d2d-bde3-a66c2e3a6d07",
   "metadata": {},
   "outputs": [
    {
     "ename": "ImportError",
     "evalue": "libX11.so.6: cannot open shared object file: No such file or directory",
     "output_type": "error",
     "traceback": [
      "\u001b[31m---------------------------------------------------------------------------\u001b[39m",
      "\u001b[31mImportError\u001b[39m                               Traceback (most recent call last)",
      "\u001b[36mCell\u001b[39m\u001b[36m \u001b[39m\u001b[32mIn[3]\u001b[39m\u001b[32m, line 1\u001b[39m\n\u001b[32m----> \u001b[39m\u001b[32m1\u001b[39m \u001b[38;5;28;01mimport\u001b[39;00m\u001b[38;5;250m \u001b[39m\u001b[34;01mcv2\u001b[39;00m\n\u001b[32m      2\u001b[39m \u001b[38;5;28;01mfrom\u001b[39;00m\u001b[38;5;250m \u001b[39m\u001b[34;01multralytics\u001b[39;00m\u001b[38;5;250m \u001b[39m\u001b[38;5;28;01mimport\u001b[39;00m YOLO\n\u001b[32m      3\u001b[39m \u001b[38;5;28;01mimport\u001b[39;00m\u001b[38;5;250m \u001b[39m\u001b[34;01mthreading\u001b[39;00m\n",
      "\u001b[31mImportError\u001b[39m: libX11.so.6: cannot open shared object file: No such file or directory"
     ]
    }
   ],
   "source": [
    "import cv2\n",
    "from ultralytics import YOLO\n",
    "import threading\n",
    "from queue import Queue\n",
    "import time\n",
    "from rnn import RNN\n",
    "from tracker import TRACKER\n",
    "\n",
    "# === CONFIGURATION ===\n",
    "MODEL_PATH = \"runs/detect/train/weights/best.pt\" \n",
    "VIDEO_PATH = \"raw_video/21.MOV\"\n",
    "CONFIDENCE_THRESHOLD = 0.3\n",
    "SAVE_OUTPUT = False  \n",
    "OUTPUT_PATH = \"output_video.mp4\"\n",
    "SCALE_PERCENT = 30 \n",
    "SHOW_FPS = True\n",
    "\n",
    "ORANGE = (0,150,220)\n",
    "BLUE = (175, 0, 0)\n",
    "GREEN = (0, 150, 0)\n",
    "RED = (0, 0, 175)\n",
    "COLORS = [GREEN, RED, BLUE, ORANGE]\n",
    "\n",
    "# === INITIALIZE ===\n",
    "rnn = RNN()\n",
    "tracker = TRACKER(30)\n",
    "\n",
    "\n",
    "\n",
    "# === START VIDEO CAPTURE ===\n",
    "cap = cv2.VideoCapture(VIDEO_PATH)\n",
    "if not cap.isOpened():\n",
    "    print(f\"Could not open video: {VIDEO_PATH}\")\n",
    "    exit()\n",
    "\n",
    "# === GET INITIAL FRAME SIZE AND FPS ===\n",
    "ret, frame = cap.read()\n",
    "if not ret:\n",
    "    print(\"Failed to read video.\")\n",
    "    exit()\n",
    "\n",
    "# === RESIZE SETUP ===\n",
    "width = int(frame.shape[1] * SCALE_PERCENT / 100)\n",
    "height = int(frame.shape[0] * SCALE_PERCENT / 100)\n",
    "\n",
    "\n",
    "\n",
    "# === INFERENCE LOOP ===\n",
    "import time\n",
    "fps_counter = []\n",
    "print(\"Starting inference...\")\n",
    "while True:\n",
    "    ret, frame = cap.read()\n",
    "    if not ret:\n",
    "        break\n",
    "\n",
    "    frame = cv2.resize(frame, (width, height))\n",
    "\n"
   ]
  },
  {
   "cell_type": "code",
   "execution_count": null,
   "id": "61762e7e-33b9-4d39-9de3-815b7d7a1c60",
   "metadata": {},
   "outputs": [],
   "source": []
  }
 ],
 "metadata": {
  "kernelspec": {
   "display_name": "Python 3 (ipykernel)",
   "language": "python",
   "name": "python3"
  },
  "language_info": {
   "codemirror_mode": {
    "name": "ipython",
    "version": 3
   },
   "file_extension": ".py",
   "mimetype": "text/x-python",
   "name": "python",
   "nbconvert_exporter": "python",
   "pygments_lexer": "ipython3",
   "version": "3.11.11"
  }
 },
 "nbformat": 4,
 "nbformat_minor": 5
}
