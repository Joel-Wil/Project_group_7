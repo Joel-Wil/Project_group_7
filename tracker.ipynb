{
 "cells": [
  {
   "cell_type": "code",
   "execution_count": 2,
   "id": "d7b9d30f-6c03-4f2d-9ded-4b2757aa0b55",
   "metadata": {},
   "outputs": [],
   "source": [
    "import numpy as np\n",
    "\n",
    "\n",
    "class OBJECT():\n",
    "    def __init__(self, id, initialCoord):\n",
    "        self.id = id\n",
    "        self.trajectory = [initialCoord]\n",
    "    def addCoordinate(self, coordinate):\n",
    "        self.trajectory.append(coordinate)\n",
    "    def getData(self):\n",
    "        return self.id, self.trajectory\n",
    "    def getLatestCoord(self):\n",
    "        return self.trajectory[len(self.trajectory)-1]\n",
    "    \n",
    "\n",
    "class TRACKER():\n",
    "    def __init__(self, maxDistance):\n",
    "        self.maxDistance = maxDistance\n",
    "        self.trackedObjects = {}\n",
    "        self.assignID = 1\n",
    "    def track(self, coord):\n",
    "        ''' \n",
    "        coord : (x, y) \n",
    "        '''\n",
    "        minDistance = 1e9\n",
    "        closestID = None\n",
    "        for trackedObject in self.trackedObjects:\n",
    "            latestCoord = self.trackedObjects[trackedObject].getLatestCoord()\n",
    "            dist = np.linalg.norm(np.array(coord) - np.array(latestCoord))\n",
    "            if dist < self.maxDistance:\n",
    "                if dist < minDistance:\n",
    "                    minDistance = dist\n",
    "                    closestID = trackedObject\n",
    "        if closestID is not None:\n",
    "            self.trackedObjects[closestID].addCoordinate(coord)\n",
    "        else:\n",
    "            self.trackedObjects[self.assignID] = OBJECT(self.assignID, coord)\n",
    "            self.assignID += 1"
   ]
  },
  {
   "cell_type": "code",
   "execution_count": null,
   "id": "01c7b292-5054-47a0-82b6-f7cafa2bd140",
   "metadata": {},
   "outputs": [],
   "source": []
  }
 ],
 "metadata": {
  "kernelspec": {
   "display_name": "Python 3 (ipykernel)",
   "language": "python",
   "name": "python3"
  },
  "language_info": {
   "codemirror_mode": {
    "name": "ipython",
    "version": 3
   },
   "file_extension": ".py",
   "mimetype": "text/x-python",
   "name": "python",
   "nbconvert_exporter": "python",
   "pygments_lexer": "ipython3",
   "version": "3.11.11"
  }
 },
 "nbformat": 4,
 "nbformat_minor": 5
}
