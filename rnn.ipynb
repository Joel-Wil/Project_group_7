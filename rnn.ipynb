{
 "cells": [
  {
   "cell_type": "code",
   "execution_count": 2,
   "id": "ebeb876e-6bf7-4884-8de0-537334b9517a",
   "metadata": {},
   "outputs": [],
   "source": [
    "import numpy as np\n",
    "\n",
    "class RNN():\n",
    "    def __init__(self):\n",
    "        self.LSTM = None\n",
    "        self.prev = [None, None]\n",
    "\n",
    "        self.magnitude = None\n",
    "        self.unitVector = None\n",
    "        pass\n",
    "    def forward(self):\n",
    "        pass\n",
    "    def backwards(self):\n",
    "        pass\n",
    "    def update(self, position):\n",
    "        position = np.array([position[0], position[1]], dtype=np.float32)\n",
    "        if self.prev[0] != None:\n",
    "            vector = position - self.prev                      # vectorize\n",
    "            # SPEED\n",
    "            self.magnitude = np.sqrt(np.dot(vector, vector))   # dot and sqrt for magnitude   \n",
    "            # DIRECTION \n",
    "            self.unitVector = vector / self.magnitude if self.magnitude != 0 else np.zeros(2, dtype=np.float32)\n",
    "            pass\n",
    "\n",
    "        self.prev = np.array([position[0], position[1]], dtype=np.float32)\n",
    "        return (self.magnitude, self.unitVector)"
   ]
  },
  {
   "cell_type": "code",
   "execution_count": null,
   "id": "1c7b6f51-0aac-49d6-9959-777c8119f3ca",
   "metadata": {},
   "outputs": [],
   "source": []
  }
 ],
 "metadata": {
  "kernelspec": {
   "display_name": "Python 3 (ipykernel)",
   "language": "python",
   "name": "python3"
  },
  "language_info": {
   "codemirror_mode": {
    "name": "ipython",
    "version": 3
   },
   "file_extension": ".py",
   "mimetype": "text/x-python",
   "name": "python",
   "nbconvert_exporter": "python",
   "pygments_lexer": "ipython3",
   "version": "3.11.11"
  }
 },
 "nbformat": 4,
 "nbformat_minor": 5
}
